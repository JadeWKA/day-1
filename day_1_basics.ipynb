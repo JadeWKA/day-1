{
  "nbformat": 4,
  "nbformat_minor": 0,
  "metadata": {
    "colab": {
      "name": "day 1 basics",
      "provenance": [],
      "collapsed_sections": [],
      "authorship_tag": "ABX9TyPI/5aY0c2W+CkQDRWi932V",
      "include_colab_link": true
    },
    "kernelspec": {
      "name": "python3",
      "display_name": "Python 3"
    },
    "language_info": {
      "name": "python"
    }
  },
  "cells": [
    {
      "cell_type": "markdown",
      "metadata": {
        "id": "view-in-github",
        "colab_type": "text"
      },
      "source": [
        "<a href=\"https://colab.research.google.com/github/JadeWKA/day-1/blob/main/day_1_basics.ipynb\" target=\"_parent\"><img src=\"https://colab.research.google.com/assets/colab-badge.svg\" alt=\"Open In Colab\"/></a>"
      ]
    },
    {
      "cell_type": "markdown",
      "source": [
        "# Hello Python"
      ],
      "metadata": {
        "id": "aCdt-B6_0Ktp"
      }
    },
    {
      "cell_type": "code",
      "source": [
        "print(\"Hello World\")"
      ],
      "metadata": {
        "colab": {
          "base_uri": "https://localhost:8080/"
        },
        "id": "oPjEH6IEiF5I",
        "outputId": "29ad7493-6a98-40dc-ff60-ca4ad109703e"
      },
      "execution_count": null,
      "outputs": [
        {
          "output_type": "stream",
          "name": "stdout",
          "text": [
            "Hello World\n"
          ]
        }
      ]
    },
    {
      "cell_type": "code",
      "source": [
        "import this"
      ],
      "metadata": {
        "colab": {
          "base_uri": "https://localhost:8080/"
        },
        "id": "BzdUoYiNimRB",
        "outputId": "98f5db56-4a63-4b46-cd23-ae22b3294e7e"
      },
      "execution_count": null,
      "outputs": [
        {
          "output_type": "stream",
          "name": "stdout",
          "text": [
            "The Zen of Python, by Tim Peters\n",
            "\n",
            "Beautiful is better than ugly.\n",
            "Explicit is better than implicit.\n",
            "Simple is better than complex.\n",
            "Complex is better than complicated.\n",
            "Flat is better than nested.\n",
            "Sparse is better than dense.\n",
            "Readability counts.\n",
            "Special cases aren't special enough to break the rules.\n",
            "Although practicality beats purity.\n",
            "Errors should never pass silently.\n",
            "Unless explicitly silenced.\n",
            "In the face of ambiguity, refuse the temptation to guess.\n",
            "There should be one-- and preferably only one --obvious way to do it.\n",
            "Although that way may not be obvious at first unless you're Dutch.\n",
            "Now is better than never.\n",
            "Although never is often better than *right* now.\n",
            "If the implementation is hard to explain, it's a bad idea.\n",
            "If the implementation is easy to explain, it may be a good idea.\n",
            "Namespaces are one honking great idea -- let's do more of those!\n"
          ]
        }
      ]
    },
    {
      "cell_type": "markdown",
      "source": [
        "# String Basics"
      ],
      "metadata": {
        "id": "K5MmJ5Gsi5m9"
      }
    },
    {
      "cell_type": "code",
      "source": [
        "'This is a string'"
      ],
      "metadata": {
        "colab": {
          "base_uri": "https://localhost:8080/",
          "height": 35
        },
        "id": "cxr7QxQP0mPv",
        "outputId": "ac11266b-a9d5-4075-9681-2a838ceabf90"
      },
      "execution_count": 4,
      "outputs": [
        {
          "output_type": "execute_result",
          "data": {
            "application/vnd.google.colaboratory.intrinsic+json": {
              "type": "string"
            },
            "text/plain": [
              "'This is a string'"
            ]
          },
          "metadata": {},
          "execution_count": 4
        }
      ]
    },
    {
      "cell_type": "code",
      "source": [
        "'another string'"
      ],
      "metadata": {
        "colab": {
          "base_uri": "https://localhost:8080/",
          "height": 35
        },
        "id": "-0-aRpTD0mKx",
        "outputId": "c6c52052-e3d3-4eaa-a335-ac0bea3725eb"
      },
      "execution_count": 5,
      "outputs": [
        {
          "output_type": "execute_result",
          "data": {
            "application/vnd.google.colaboratory.intrinsic+json": {
              "type": "string"
            },
            "text/plain": [
              "'another string'"
            ]
          },
          "metadata": {},
          "execution_count": 5
        }
      ]
    },
    {
      "cell_type": "code",
      "source": [
        "'Another one'"
      ],
      "metadata": {
        "colab": {
          "base_uri": "https://localhost:8080/",
          "height": 35
        },
        "id": "z3rfrAS60mHn",
        "outputId": "b3795022-29c9-4128-dece-0df55e36ceff"
      },
      "execution_count": 6,
      "outputs": [
        {
          "output_type": "execute_result",
          "data": {
            "application/vnd.google.colaboratory.intrinsic+json": {
              "type": "string"
            },
            "text/plain": [
              "'Another one'"
            ]
          },
          "metadata": {},
          "execution_count": 6
        }
      ]
    },
    {
      "cell_type": "code",
      "source": [
        "'Another another'"
      ],
      "metadata": {
        "colab": {
          "base_uri": "https://localhost:8080/",
          "height": 35
        },
        "id": "Z0bdAiQg0mET",
        "outputId": "b0e2e13b-43c7-4e2f-c6d8-6ed00057b4b0"
      },
      "execution_count": 7,
      "outputs": [
        {
          "output_type": "execute_result",
          "data": {
            "application/vnd.google.colaboratory.intrinsic+json": {
              "type": "string"
            },
            "text/plain": [
              "'Another another'"
            ]
          },
          "metadata": {},
          "execution_count": 7
        }
      ]
    },
    {
      "cell_type": "code",
      "source": [
        "'Yep'"
      ],
      "metadata": {
        "colab": {
          "base_uri": "https://localhost:8080/",
          "height": 35
        },
        "id": "i3FaYaM-0lgU",
        "outputId": "800a8250-24fa-4b17-b867-6dee5518ffe2"
      },
      "execution_count": 8,
      "outputs": [
        {
          "output_type": "execute_result",
          "data": {
            "application/vnd.google.colaboratory.intrinsic+json": {
              "type": "string"
            },
            "text/plain": [
              "'Yep'"
            ]
          },
          "metadata": {},
          "execution_count": 8
        }
      ]
    },
    {
      "cell_type": "code",
      "source": [
        "s = 'What is the length of this string'"
      ],
      "metadata": {
        "id": "Qhu3yNzk7YeT"
      },
      "execution_count": 17,
      "outputs": []
    },
    {
      "cell_type": "code",
      "source": [
        "len('What is the length of this string')"
      ],
      "metadata": {
        "colab": {
          "base_uri": "https://localhost:8080/"
        },
        "id": "4BrSWn5Q1iGD",
        "outputId": "d925f3d2-2fbe-4597-eb32-3f7bc43f6e6f"
      },
      "execution_count": 14,
      "outputs": [
        {
          "output_type": "execute_result",
          "data": {
            "text/plain": [
              "33"
            ]
          },
          "metadata": {},
          "execution_count": 14
        }
      ]
    },
    {
      "cell_type": "code",
      "source": [
        "'General Kenobi'\n",
        "g = 'General Kenobi'\n",
        "len('General Kenobi')\n",
        "len(g)"
      ],
      "metadata": {
        "colab": {
          "base_uri": "https://localhost:8080/"
        },
        "id": "qLt1pl241h3i",
        "outputId": "8a36fb62-1b8a-478c-d37b-afbbafec80db"
      },
      "execution_count": 15,
      "outputs": [
        {
          "output_type": "execute_result",
          "data": {
            "text/plain": [
              "14"
            ]
          },
          "metadata": {},
          "execution_count": 15
        }
      ]
    },
    {
      "cell_type": "markdown",
      "source": [
        "## String Indexing"
      ],
      "metadata": {
        "id": "G76KXLy61hly"
      }
    },
    {
      "cell_type": "code",
      "source": [
        "print (s)"
      ],
      "metadata": {
        "colab": {
          "base_uri": "https://localhost:8080/"
        },
        "id": "SzmlW7k57UI1",
        "outputId": "f3071ebd-6dd0-4090-956c-73bac3ddc103"
      },
      "execution_count": 25,
      "outputs": [
        {
          "output_type": "stream",
          "name": "stdout",
          "text": [
            "What is the length of this string\n"
          ]
        }
      ]
    },
    {
      "cell_type": "code",
      "source": [
        "s[0]"
      ],
      "metadata": {
        "colab": {
          "base_uri": "https://localhost:8080/",
          "height": 35
        },
        "id": "xb-_Qrlh7UFT",
        "outputId": "d66817da-1029-4d9f-face-880471920ece"
      },
      "execution_count": 26,
      "outputs": [
        {
          "output_type": "execute_result",
          "data": {
            "application/vnd.google.colaboratory.intrinsic+json": {
              "type": "string"
            },
            "text/plain": [
              "'W'"
            ]
          },
          "metadata": {},
          "execution_count": 26
        }
      ]
    },
    {
      "cell_type": "code",
      "source": [
        "s[1]"
      ],
      "metadata": {
        "colab": {
          "base_uri": "https://localhost:8080/",
          "height": 35
        },
        "id": "rNEW7S2V7T8g",
        "outputId": "ab3b74db-8099-405a-da29-44afee7f3dc7"
      },
      "execution_count": 27,
      "outputs": [
        {
          "output_type": "execute_result",
          "data": {
            "application/vnd.google.colaboratory.intrinsic+json": {
              "type": "string"
            },
            "text/plain": [
              "'h'"
            ]
          },
          "metadata": {},
          "execution_count": 27
        }
      ]
    },
    {
      "cell_type": "code",
      "source": [
        "s[2]"
      ],
      "metadata": {
        "colab": {
          "base_uri": "https://localhost:8080/",
          "height": 35
        },
        "id": "oL4HhZz47T5a",
        "outputId": "13203a50-7976-4664-d4a1-bf2002318f6f"
      },
      "execution_count": 28,
      "outputs": [
        {
          "output_type": "execute_result",
          "data": {
            "application/vnd.google.colaboratory.intrinsic+json": {
              "type": "string"
            },
            "text/plain": [
              "'a'"
            ]
          },
          "metadata": {},
          "execution_count": 28
        }
      ]
    },
    {
      "cell_type": "code",
      "source": [
        "s[3]"
      ],
      "metadata": {
        "colab": {
          "base_uri": "https://localhost:8080/",
          "height": 35
        },
        "id": "j2ahtZko2JMx",
        "outputId": "30df7785-a228-4400-f4dd-bf5af77c0220"
      },
      "execution_count": 29,
      "outputs": [
        {
          "output_type": "execute_result",
          "data": {
            "application/vnd.google.colaboratory.intrinsic+json": {
              "type": "string"
            },
            "text/plain": [
              "'t'"
            ]
          },
          "metadata": {},
          "execution_count": 29
        }
      ]
    },
    {
      "cell_type": "code",
      "source": [
        "s[0] + s[1] + s[2] + s[3]"
      ],
      "metadata": {
        "colab": {
          "base_uri": "https://localhost:8080/",
          "height": 35
        },
        "id": "DCytL9Nt8pYH",
        "outputId": "d74e58c1-864a-4643-a5c9-22ab9883591e"
      },
      "execution_count": 31,
      "outputs": [
        {
          "output_type": "execute_result",
          "data": {
            "application/vnd.google.colaboratory.intrinsic+json": {
              "type": "string"
            },
            "text/plain": [
              "'What'"
            ]
          },
          "metadata": {},
          "execution_count": 31
        }
      ]
    },
    {
      "cell_type": "markdown",
      "source": [
        "concatenation of the strings"
      ],
      "metadata": {
        "id": "IvxJUa_x8pof"
      }
    },
    {
      "cell_type": "code",
      "source": [
        "greeting = \"Hello\"\n",
        "name = \" Mark\"\n",
        "print(greeting + name)\n",
        "print(greeting + \" \" + name)\n",
        "print(greeting + \" \" + str(7))"
      ],
      "metadata": {
        "colab": {
          "base_uri": "https://localhost:8080/"
        },
        "id": "HZhCk1rx8p6f",
        "outputId": "afd67306-7981-4e0a-896f-8d007930375e"
      },
      "execution_count": 3,
      "outputs": [
        {
          "output_type": "stream",
          "name": "stdout",
          "text": [
            "Hello Mark\n",
            "Hello  Mark\n",
            "Hello 7\n"
          ]
        }
      ]
    },
    {
      "cell_type": "markdown",
      "source": [
        "input function"
      ],
      "metadata": {
        "id": "R74hOuUActyB"
      }
    },
    {
      "cell_type": "code",
      "source": [
        "greeting = \"Hello\"\n",
        "name = input(\"what is your name?\")\n",
        "print(greeting + \" \" + name)"
      ],
      "metadata": {
        "colab": {
          "base_uri": "https://localhost:8080/"
        },
        "id": "GwzRtDcbcwzV",
        "outputId": "8092f8d3-ac8e-4104-b5da-63659e41ff5f"
      },
      "execution_count": 6,
      "outputs": [
        {
          "output_type": "stream",
          "name": "stdout",
          "text": [
            "what is your name?Jade\n",
            "Hello Jade\n"
          ]
        }
      ]
    },
    {
      "cell_type": "code",
      "source": [
        "'''\n",
        "\n",
        "task:\n",
        "1: ask the user for name, age, and city\n",
        "2: print out a greeting for it\n",
        "\n",
        "'''"
      ],
      "metadata": {
        "id": "BjgUSvTIcxGv"
      },
      "execution_count": null,
      "outputs": []
    },
    {
      "cell_type": "code",
      "source": [
        "greeting = \"hello\"\n",
        "name = input(\"What's your name? \")\n",
        "print(greeting + \" \" + name)\n",
        "age = input(\"How old are you? \")\n",
        "age_a = \"Oh, I am 24. You're \"\n",
        "print(age_a + \" \" + age)\n",
        "city = input(\"Where do you live? \")\n",
        "city_a = \"That's cool, you live in \"\n",
        "print(city_a + \" \" + city)\n",
        "\n",
        "print(f'{city} must be nice')"
      ],
      "metadata": {
        "colab": {
          "base_uri": "https://localhost:8080/"
        },
        "id": "MjxxB1AGe_Ch",
        "outputId": "a76916a9-b5d6-4c8f-cb5b-b1a730c443d2"
      },
      "execution_count": 9,
      "outputs": [
        {
          "output_type": "stream",
          "name": "stdout",
          "text": [
            "What's your name? Jade\n",
            "hello Jade\n",
            "How old are you? 21\n",
            "Oh, I am 24. You're  21\n",
            "Where do you live? New York\n",
            "That's cool, you live in  New York\n",
            "New York must be nice\n"
          ]
        }
      ]
    },
    {
      "cell_type": "markdown",
      "source": [
        "##Other stuff"
      ],
      "metadata": {
        "id": "sTcdhxf17-Xo"
      }
    },
    {
      "cell_type": "code",
      "source": [
        "phrase = \"Concatenation is taking a string and appending another string into it. \"\n",
        "\n",
        "print(phrase + \"Cool!\" + \"\\n\")\n",
        "\n",
        "print(phrase.lower() + \"\\n\")\n",
        "\n",
        "#lower case\n",
        "\n",
        "print(phrase.upper() + \"\\n\")\n",
        "\n",
        "#upper case\n",
        "\n",
        "print(phrase.isupper())\n",
        "\n",
        "#check if it is upper case\n",
        "\n",
        "print(phrase.islower())\n",
        "\n",
        "#check if it is lower case\n",
        "\n",
        "print(phrase.upper().isupper())\n",
        "\n",
        "#change all the characters into uppercase and check if the phrase is uppercase\n",
        "\n",
        "print(len(phrase))\n",
        "\n",
        "print(phrase[0])\n",
        "\n",
        "print(phrase.index(\"a\"))\n",
        "\n",
        "#find letters in the String\n",
        "\n",
        "print(phrase.index(\"string\"))\n",
        "\n",
        "print(phrase.replace(\"string\", \"STRING\"))"
      ],
      "metadata": {
        "colab": {
          "base_uri": "https://localhost:8080/"
        },
        "id": "PHNCwvMv8CYF",
        "outputId": "1abfc8f6-8f26-422a-c50a-1fc0a7ca8893"
      },
      "execution_count": 24,
      "outputs": [
        {
          "output_type": "stream",
          "name": "stdout",
          "text": [
            "Concatenation is taking a string and appending another string into it. Cool!\n",
            "\n",
            "concatenation is taking a string and appending another string into it. \n",
            "\n",
            "CONCATENATION IS TAKING A STRING AND APPENDING ANOTHER STRING INTO IT. \n",
            "\n",
            "False\n",
            "False\n",
            "True\n",
            "71\n",
            "C\n",
            "4\n",
            "26\n",
            "Concatenation is taking a STRING and appending another STRING into it. \n"
          ]
        }
      ]
    }
  ]
}